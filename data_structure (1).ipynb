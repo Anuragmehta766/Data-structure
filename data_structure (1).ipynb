{
  "nbformat": 4,
  "nbformat_minor": 0,
  "metadata": {
    "colab": {
      "provenance": []
    },
    "kernelspec": {
      "name": "python3",
      "display_name": "Python 3"
    },
    "language_info": {
      "name": "python"
    }
  },
  "cells": [
    {
      "cell_type": "code",
      "execution_count": 87,
      "metadata": {
        "id": "XYnjPXzENJv5"
      },
      "outputs": [],
      "source": []
    },
    {
      "cell_type": "markdown",
      "source": [
        "# Data structure"
      ],
      "metadata": {
        "id": "YShmuFh3NvVt"
      }
    },
    {
      "cell_type": "code",
      "source": [],
      "metadata": {
        "id": "SBexSgVyN2mT"
      },
      "execution_count": 87,
      "outputs": []
    },
    {
      "cell_type": "markdown",
      "source": [
        "### 1.write a code to create a string with your name and print it."
      ],
      "metadata": {
        "id": "7_XJ_Y6KPq5U"
      }
    },
    {
      "cell_type": "code",
      "source": [
        "\n",
        "# create a string with my name\n",
        "name = \"ANURAG\"\n",
        "# print the string\n",
        "print(\"My name is\", name)\n",
        "\n",
        "\n",
        "\n",
        "\n",
        "\n"
      ],
      "metadata": {
        "colab": {
          "base_uri": "https://localhost:8080/"
        },
        "id": "UsmfkYbbQ2na",
        "outputId": "922fea5f-f575-4347-9343-986eab039613"
      },
      "execution_count": 88,
      "outputs": [
        {
          "output_type": "stream",
          "name": "stdout",
          "text": [
            "My name is ANURAG\n"
          ]
        }
      ]
    },
    {
      "cell_type": "markdown",
      "source": [
        "### 2.write a code to find the length of the string \" hello world \"."
      ],
      "metadata": {
        "id": "K54FxMNERyR4"
      }
    },
    {
      "cell_type": "code",
      "source": [
        "\n",
        "# create the string\n",
        "text = \"HelloWorld\"\n",
        "\n",
        "# Finding and printing the length\n",
        "length = len(text)\n",
        "print(\"The length of the string is:\", length)"
      ],
      "metadata": {
        "colab": {
          "base_uri": "https://localhost:8080/"
        },
        "id": "8KYp8kTBZ4kk",
        "outputId": "01ad24f9-9466-451b-c64d-5faef27bc153"
      },
      "execution_count": 89,
      "outputs": [
        {
          "output_type": "stream",
          "name": "stdout",
          "text": [
            "The length of the string is: 10\n"
          ]
        }
      ]
    },
    {
      "cell_type": "markdown",
      "source": [
        "### 3. write a code to slice the first 3 characters from the string python programing"
      ],
      "metadata": {
        "id": "I6_-V7aRcW2X"
      }
    },
    {
      "cell_type": "code",
      "source": [
        "# create the string\n",
        "text = \"python programming\"\n",
        "# slice the first three characters\n",
        "sliced = text [:3]\n",
        "\n",
        "# print the result\n",
        "print (\"first three characters are:\", sliced)"
      ],
      "metadata": {
        "colab": {
          "base_uri": "https://localhost:8080/"
        },
        "id": "_qgNEelQdczw",
        "outputId": "1db7b9bd-8121-4d4c-dce9-d6525039d527"
      },
      "execution_count": 90,
      "outputs": [
        {
          "output_type": "stream",
          "name": "stdout",
          "text": [
            "first three characters are: pyt\n"
          ]
        }
      ]
    },
    {
      "cell_type": "markdown",
      "source": [
        "### 4. write a code to convert the string \" Hello \"  to uppercase."
      ],
      "metadata": {
        "id": "LLGEr_7qeniI"
      }
    },
    {
      "cell_type": "code",
      "source": [
        "# origional string\n",
        "original_string = \" hello\"\n",
        "\n",
        "# convert to uppercase\n",
        "uppercase_string = original_string.upper()\n",
        "\n",
        "# print the result\n",
        "print(\"Original string:\", original_string)\n",
        "print(\"Uppercase string:\", uppercase_string)"
      ],
      "metadata": {
        "colab": {
          "base_uri": "https://localhost:8080/"
        },
        "id": "1qmhLWfThVuk",
        "outputId": "2b5c5d02-a07c-4855-d79e-1071232d0dc8"
      },
      "execution_count": 91,
      "outputs": [
        {
          "output_type": "stream",
          "name": "stdout",
          "text": [
            "Original string:  hello\n",
            "Uppercase string:  HELLO\n"
          ]
        }
      ]
    },
    {
      "cell_type": "markdown",
      "source": [
        "###5. write a code to replace the word \" apple \" with \" oranges\" in the string \" i like apple \"."
      ],
      "metadata": {
        "id": "rp2RLwe8iCrZ"
      }
    },
    {
      "cell_type": "code",
      "source": [
        "# original string\n",
        "sentence = \" I like aplle\"\n",
        "\n",
        "# Replace \" apple \" with \" oramge\"\n",
        "new_sentence = sentence.replace(\"apple\", \"orange\")\n",
        "\n",
        "# print the result\n",
        "print(\"Original sentence:\", sentence)\n",
        "print(\"New sentence:\", new_sentence)"
      ],
      "metadata": {
        "colab": {
          "base_uri": "https://localhost:8080/"
        },
        "id": "nvUVn0VQio7o",
        "outputId": "dc95a0cd-b4a1-428c-dfe9-c5335c242b58"
      },
      "execution_count": 92,
      "outputs": [
        {
          "output_type": "stream",
          "name": "stdout",
          "text": [
            "Original sentence:  I like aplle\n",
            "New sentence:  I like aplle\n"
          ]
        }
      ]
    },
    {
      "cell_type": "markdown",
      "source": [
        "###6.  write a code to create a list with numbers 1 to 5 and print it."
      ],
      "metadata": {
        "id": "tGFBiLedjJS7"
      }
    },
    {
      "cell_type": "code",
      "source": [
        "# create a list with number 1 to 5\n",
        "numbers = [1, 2, 3, 4, 5]\n",
        "\n",
        "# print the list\n",
        "print(numbers)"
      ],
      "metadata": {
        "colab": {
          "base_uri": "https://localhost:8080/"
        },
        "id": "c8_xpxREjgGC",
        "outputId": "cb977c5e-587a-486d-bf29-34f521d43531"
      },
      "execution_count": 93,
      "outputs": [
        {
          "output_type": "stream",
          "name": "stdout",
          "text": [
            "[1, 2, 3, 4, 5]\n"
          ]
        }
      ]
    },
    {
      "cell_type": "markdown",
      "source": [
        "### 7. write a code to append the number 10 to the list [1,2,3,4]."
      ],
      "metadata": {
        "id": "wsDTFvIajqy1"
      }
    },
    {
      "cell_type": "code",
      "source": [
        "# Initial list\n",
        "my_list = [1, 2, 3, 4]\n",
        "\n",
        "# Append 10 to the list\n",
        "my_list.append(10)\n",
        "\n",
        "# Print the updated list\n",
        "print(my_list)"
      ],
      "metadata": {
        "colab": {
          "base_uri": "https://localhost:8080/"
        },
        "id": "RI5qgHMej-lO",
        "outputId": "7dc1a141-72e2-4b99-eb1e-4ace26be233c"
      },
      "execution_count": 94,
      "outputs": [
        {
          "output_type": "stream",
          "name": "stdout",
          "text": [
            "[1, 2, 3, 4, 10]\n"
          ]
        }
      ]
    },
    {
      "cell_type": "markdown",
      "source": [
        "###8. write a code to remove the number 3 from the list [1,2,3,4,5]."
      ],
      "metadata": {
        "id": "SnJJztc3kWDQ"
      }
    },
    {
      "cell_type": "code",
      "source": [
        "# orignal list\n",
        "my_list = [1,2,3,4,5]\n",
        "\n",
        "# Remove the number 3 from the list\n",
        "my_list.remove(3)\n",
        "\n",
        "# Print the updated list\n",
        "print(my_list)"
      ],
      "metadata": {
        "colab": {
          "base_uri": "https://localhost:8080/"
        },
        "id": "XxnLq9OskffB",
        "outputId": "9c1888f6-abb2-43a4-83f5-fc34937dd9f1"
      },
      "execution_count": 95,
      "outputs": [
        {
          "output_type": "stream",
          "name": "stdout",
          "text": [
            "[1, 2, 4, 5]\n"
          ]
        }
      ]
    },
    {
      "cell_type": "markdown",
      "source": [
        "###9. write a code to access the second element in the list ['a','b','c','d']."
      ],
      "metadata": {
        "id": "dMjByMkak2AR"
      }
    },
    {
      "cell_type": "code",
      "source": [
        "# Define the list\n",
        "my_list = ['a', 'b', 'c', 'd']\n",
        "\n",
        "# Access the second element in the list\n",
        "second_element = my_list[1]\n",
        "\n",
        "# Print the second element\n",
        "print(second_element)"
      ],
      "metadata": {
        "colab": {
          "base_uri": "https://localhost:8080/"
        },
        "id": "FWKFdtLelVGy",
        "outputId": "8bd1e4d0-49fa-4575-87cf-41a3cfdcb8cd"
      },
      "execution_count": 96,
      "outputs": [
        {
          "output_type": "stream",
          "name": "stdout",
          "text": [
            "b\n"
          ]
        }
      ]
    },
    {
      "cell_type": "markdown",
      "source": [
        "###10.write a code to reverse the list [10,20,30,40,50]."
      ],
      "metadata": {
        "id": "OPiUM6zVlky_"
      }
    },
    {
      "cell_type": "code",
      "source": [
        "# original listy\n",
        "original_list =[10,20,30,40,50]\n",
        "\n",
        "#reverse the list\n",
        "reversed_list = original_list[::-1]\n",
        "\n",
        "# print the reversed list\n",
        "print(\"Original list:\", original_list)\n",
        "print(\"Reversed list:\", reversed_list)\n"
      ],
      "metadata": {
        "colab": {
          "base_uri": "https://localhost:8080/"
        },
        "id": "YLMP33ael8F-",
        "outputId": "95c909e8-d69f-4ac2-ec78-f29b0287b38d"
      },
      "execution_count": 97,
      "outputs": [
        {
          "output_type": "stream",
          "name": "stdout",
          "text": [
            "Original list: [10, 20, 30, 40, 50]\n",
            "Reversed list: [50, 40, 30, 20, 10]\n"
          ]
        }
      ]
    },
    {
      "cell_type": "markdown",
      "source": [
        "###11. write a code to create a tuple with the elements 100.200,300 and print it."
      ],
      "metadata": {
        "id": "f1riJ7H7mV-r"
      }
    },
    {
      "cell_type": "code",
      "source": [
        "# create a tuple with the specified elements\n",
        "my_tuple = (100, 200, 300)\n",
        "\n",
        "# print the tuple\n",
        "print(my_tuple)"
      ],
      "metadata": {
        "colab": {
          "base_uri": "https://localhost:8080/"
        },
        "id": "vj7a3d68mq3t",
        "outputId": "6f88fbc9-94f8-4075-c064-17267f5c443c"
      },
      "execution_count": 98,
      "outputs": [
        {
          "output_type": "stream",
          "name": "stdout",
          "text": [
            "(100, 200, 300)\n"
          ]
        }
      ]
    },
    {
      "cell_type": "markdown",
      "source": [
        "###12.write a code to access the second to last element of the tuple ('red','green','blue','yellow')."
      ],
      "metadata": {
        "id": "gtgAK-wZnB69"
      }
    },
    {
      "cell_type": "code",
      "source": [
        "# Define the tuple\n",
        "colors = ('red', 'green', 'blue', 'yellow')\n",
        "\n",
        "# Access the second to last element of the tuple\n",
        "second_to_last_element = colors[-2]\n",
        "\n",
        "# Print the second to last element\n",
        "print(second_to_last_element)\n",
        "#"
      ],
      "metadata": {
        "colab": {
          "base_uri": "https://localhost:8080/"
        },
        "id": "k9RzEHvOndxW",
        "outputId": "2c220326-17ae-4f23-b71c-0f890f49966b"
      },
      "execution_count": 99,
      "outputs": [
        {
          "output_type": "stream",
          "name": "stdout",
          "text": [
            "blue\n"
          ]
        }
      ]
    },
    {
      "cell_type": "markdown",
      "source": [
        "###13. write a code to find the minimum numbers in the tuple (10,20,5,15)."
      ],
      "metadata": {
        "id": "qLXbNdN0np1B"
      }
    },
    {
      "cell_type": "code",
      "source": [
        "# Define the tuple\n",
        "numbers = (10,20,5,15)\n",
        "\n",
        "# Find the minimum  number using min() function\n",
        "minimum_number = min(numbers)\n",
        "\n",
        "# Print the minimum number\n",
        "print(minimum_number)"
      ],
      "metadata": {
        "colab": {
          "base_uri": "https://localhost:8080/"
        },
        "id": "yvdhzJSfn8y-",
        "outputId": "a2b5ea9d-c3d8-4245-9359-e26f0c4cfd9d"
      },
      "execution_count": 100,
      "outputs": [
        {
          "output_type": "stream",
          "name": "stdout",
          "text": [
            "5\n"
          ]
        }
      ]
    },
    {
      "cell_type": "markdown",
      "source": [
        "###14. write a code to find the index of the element \"cat\" in the tuple ('dog','cat','rabbit')."
      ],
      "metadata": {
        "id": "nIIEfbwsoUNV"
      }
    },
    {
      "cell_type": "code",
      "source": [
        "# Define the tuple\n",
        "animals = ('dog', 'cat', 'rabbit')\n",
        "\n",
        "# Find the index of the element \"cat\"\n",
        "index = animals.index('cat')\n",
        "\n",
        "# Print the index\n",
        "print(index)"
      ],
      "metadata": {
        "colab": {
          "base_uri": "https://localhost:8080/"
        },
        "id": "VT_QKVfno3Du",
        "outputId": "54e8ecde-79f9-4fee-d866-686724553128"
      },
      "execution_count": 101,
      "outputs": [
        {
          "output_type": "stream",
          "name": "stdout",
          "text": [
            "1\n"
          ]
        }
      ]
    },
    {
      "cell_type": "markdown",
      "source": [
        "###15.write a code to create a tuple containing three different fruits and checks if \"kiwi\" is in it."
      ],
      "metadata": {
        "id": "NkHlVAJLo--l"
      }
    },
    {
      "cell_type": "code",
      "source": [
        "# create a tuple with three different fruits\n",
        "fruits = (\"apple\", \"banana\", \"orange\")\n",
        "\n",
        "# check if \"kiwi\" is in the tuple\n",
        "if \"kiwi\" in fruits:\n",
        "    print(\"kiwi is in the tuple\")\n",
        "else:\n",
        "    print(\"kiwi is not in the tuple\")"
      ],
      "metadata": {
        "colab": {
          "base_uri": "https://localhost:8080/"
        },
        "id": "l9v1-uBmpT42",
        "outputId": "e1fa99e1-c486-4ccd-b865-766d8a081baf"
      },
      "execution_count": 102,
      "outputs": [
        {
          "output_type": "stream",
          "name": "stdout",
          "text": [
            "kiwi is not in the tuple\n"
          ]
        }
      ]
    },
    {
      "cell_type": "markdown",
      "source": [
        "###16. write a code to create a set with the elements 'a','b','c' and print it."
      ],
      "metadata": {
        "id": "qCofeyhGpimi"
      }
    },
    {
      "cell_type": "code",
      "source": [
        "#create a set with the specified elements\n",
        "my_set = {'a', 'b', 'c'}\n",
        "\n",
        "# print the set\n",
        "print(my_set)"
      ],
      "metadata": {
        "colab": {
          "base_uri": "https://localhost:8080/"
        },
        "id": "B6Up84DOp4pu",
        "outputId": "c2be7d31-902b-438f-c5ed-2a456bf12219"
      },
      "execution_count": 103,
      "outputs": [
        {
          "output_type": "stream",
          "name": "stdout",
          "text": [
            "{'b', 'c', 'a'}\n"
          ]
        }
      ]
    },
    {
      "cell_type": "markdown",
      "source": [
        "###17. write a code to clear all elements from the set {1,2,3,4,5}."
      ],
      "metadata": {
        "id": "fJbfHVJTqCbZ"
      }
    },
    {
      "cell_type": "code",
      "source": [
        "#create the set\n",
        "my_set = {1, 2, 3, 4, 5}\n",
        "\n",
        "# clear all elements from the set\n",
        "my_set.clear()\n",
        "\n",
        "# print the set\n",
        "print(my_set)"
      ],
      "metadata": {
        "colab": {
          "base_uri": "https://localhost:8080/"
        },
        "id": "rK7Te9XSqX-l",
        "outputId": "64b700b8-705e-4808-cf2e-1ac0a88ce40c"
      },
      "execution_count": 104,
      "outputs": [
        {
          "output_type": "stream",
          "name": "stdout",
          "text": [
            "set()\n"
          ]
        }
      ]
    },
    {
      "cell_type": "markdown",
      "source": [
        "###18. write a code to remove the element 4 from the set {1,2,3,4}."
      ],
      "metadata": {
        "id": "muF8MPhOqf3f"
      }
    },
    {
      "cell_type": "code",
      "source": [
        "# create the set\n",
        "my_set ={1,2,3,4}\n",
        "\n",
        "# remove the element 4\n",
        "my_set.remove(4)\n",
        "\n",
        "# print the set\n",
        "print(my_set)"
      ],
      "metadata": {
        "colab": {
          "base_uri": "https://localhost:8080/"
        },
        "id": "juuN4_g2qxzt",
        "outputId": "1e52c1ea-a1e3-4d76-9f25-c7134f6ac12c"
      },
      "execution_count": 105,
      "outputs": [
        {
          "output_type": "stream",
          "name": "stdout",
          "text": [
            "{1, 2, 3}\n"
          ]
        }
      ]
    },
    {
      "cell_type": "markdown",
      "source": [
        "###19. write a code to find the union of two sets{1,2,3} and {3,4,5}."
      ],
      "metadata": {
        "id": "90Aq0XSvrCK6"
      }
    },
    {
      "cell_type": "code",
      "source": [
        "# define the two sets\n",
        "set1 = {1, 2, 3}\n",
        "set2 = {3, 4, 5}\n",
        "\n",
        "# find the union of the two sets\n",
        "union_set = set1.union(set2)\n",
        "\n",
        "# print the union set\n",
        "print(union_set)\n",
        "#"
      ],
      "metadata": {
        "colab": {
          "base_uri": "https://localhost:8080/"
        },
        "id": "Vlz5nVtwrSGP",
        "outputId": "50de4085-22d1-42b1-e097-ee7143e684e4"
      },
      "execution_count": 106,
      "outputs": [
        {
          "output_type": "stream",
          "name": "stdout",
          "text": [
            "{1, 2, 3, 4, 5}\n"
          ]
        }
      ]
    },
    {
      "cell_type": "markdown",
      "source": [
        "###20. write a code to find the intersection of two sets {1,2,3} and {2,3,4}"
      ],
      "metadata": {
        "id": "vfOC2EgErYfC"
      }
    },
    {
      "cell_type": "code",
      "source": [
        "# define the two sets\n",
        "set1 = {1, 2, 3}\n",
        "set2 = {2, 3, 4}\n",
        "\n",
        "# find the intersection of the two sets\n",
        "intersection_set = set1.intersection(set2)\n",
        "\n",
        "# print the intersection set\n",
        "print(intersection_set)"
      ],
      "metadata": {
        "colab": {
          "base_uri": "https://localhost:8080/"
        },
        "id": "3qo3zBa9ruzg",
        "outputId": "2643ea81-3cb6-4a73-cc44-fbfba84c1b62"
      },
      "execution_count": 107,
      "outputs": [
        {
          "output_type": "stream",
          "name": "stdout",
          "text": [
            "{2, 3}\n"
          ]
        }
      ]
    },
    {
      "cell_type": "markdown",
      "source": [
        "###21. write a code to create a dictionary with keys\"name\", \"age\" and \"city\", and print it."
      ],
      "metadata": {
        "id": "JIrr0P8Nr3e4"
      }
    },
    {
      "cell_type": "code",
      "source": [
        "# create the dictionary\n",
        "person = {\n",
        "    \"name\": \"ANURAG\",\n",
        "    \"age\": 25,\n",
        "    \"city\": \"Ranchi\"\n",
        "}\n",
        "\n",
        "# print the dictionary\n",
        "print(person)\n",
        "\n"
      ],
      "metadata": {
        "colab": {
          "base_uri": "https://localhost:8080/"
        },
        "id": "2K7tkMousLqa",
        "outputId": "2714952b-a9d4-49c7-9671-b12354ffaee0"
      },
      "execution_count": 108,
      "outputs": [
        {
          "output_type": "stream",
          "name": "stdout",
          "text": [
            "{'name': 'ANURAG', 'age': 25, 'city': 'Ranchi'}\n"
          ]
        }
      ]
    },
    {
      "cell_type": "markdown",
      "source": [
        "###22. write a code to add a new key-value pair \" country\". \"USA\" to the dictinary {'name':'john','age':25}"
      ],
      "metadata": {
        "id": "Q-CkAoLosoNo"
      }
    },
    {
      "cell_type": "code",
      "source": [
        "# original dictionary\n",
        "person = { 'name':'john','age':25}\n",
        "\n",
        "# add a new key-value pair\n",
        "person['country'] = 'USA'\n",
        "\n",
        "# print the updated dictionary\n",
        "print(person)"
      ],
      "metadata": {
        "colab": {
          "base_uri": "https://localhost:8080/"
        },
        "id": "NNPlAa3fuZez",
        "outputId": "2cda6627-70fc-49b0-85dc-448fdaf0843e"
      },
      "execution_count": 109,
      "outputs": [
        {
          "output_type": "stream",
          "name": "stdout",
          "text": [
            "{'name': 'john', 'age': 25, 'country': 'USA'}\n"
          ]
        }
      ]
    },
    {
      "cell_type": "markdown",
      "source": [
        "###23. write a code to access the value associated with key \"name\"in the dictionary ['name':'Alice','age':30]"
      ],
      "metadata": {
        "id": "qV7-a_34uskR"
      }
    },
    {
      "cell_type": "code",
      "source": [
        "#Dictionary\n",
        "person = {'name':'Alice','age':30}\n",
        "\n",
        "# Access the value associated with key \"name\"\n",
        "name_value = person['name']\n",
        "\n",
        "# Print the value\n",
        "print(name_value)"
      ],
      "metadata": {
        "colab": {
          "base_uri": "https://localhost:8080/"
        },
        "id": "Qb0WhpubvSeg",
        "outputId": "b8587695-6984-4c62-b181-9b62db4417e8"
      },
      "execution_count": 110,
      "outputs": [
        {
          "output_type": "stream",
          "name": "stdout",
          "text": [
            "Alice\n"
          ]
        }
      ]
    },
    {
      "cell_type": "markdown",
      "source": [
        "###24. write a code to remove the key \"age\" from the dictionary ['name:''Bob','age':22,'city': 'New York']."
      ],
      "metadata": {
        "id": "-0RppgKvvufq"
      }
    },
    {
      "cell_type": "code",
      "source": [
        " #original dictionary\n",
        "person ={'name':'Bob','age':22,'city': 'New York'}\n",
        "\n",
        "# remove the key \"age\"\n",
        "person.pop('age',None)\n",
        "\n",
        "# print the updated dictionary\n",
        "print(person)"
      ],
      "metadata": {
        "colab": {
          "base_uri": "https://localhost:8080/"
        },
        "id": "xaafGyN-wWS0",
        "outputId": "6a0ab365-3ccb-491b-a9ab-8a5c78668144"
      },
      "execution_count": 111,
      "outputs": [
        {
          "output_type": "stream",
          "name": "stdout",
          "text": [
            "{'name': 'Bob', 'city': 'New York'}\n"
          ]
        }
      ]
    },
    {
      "cell_type": "markdown",
      "source": [
        "###25. write a code to check if the key \"city\" exists in the dictionary {'name':'Alice','city':'paris\"}"
      ],
      "metadata": {
        "id": "nanJN2SRxGW5"
      }
    },
    {
      "cell_type": "code",
      "source": [
        "# Dictionary\n",
        "person = {'name':'Alice','city':'paris'}\n",
        "\n",
        "# Check if the key \"city\" exists in the dictionary\n",
        "if 'city' in person:\n",
        "    print(\"The key 'city' exists in the dictionary\")"
      ],
      "metadata": {
        "colab": {
          "base_uri": "https://localhost:8080/"
        },
        "id": "oltuMJX_x-v5",
        "outputId": "f85118f8-f121-4087-d68b-88d988052b12"
      },
      "execution_count": 112,
      "outputs": [
        {
          "output_type": "stream",
          "name": "stdout",
          "text": [
            "The key 'city' exists in the dictionary\n"
          ]
        }
      ]
    },
    {
      "cell_type": "markdown",
      "source": [
        "###26. write a code to create a list, a tuple, and a dictionary ,and print them all."
      ],
      "metadata": {
        "id": "Yp1o-_QVyQhP"
      }
    },
    {
      "cell_type": "code",
      "source": [
        "# create a list\n",
        "my_list = [1,2,3,4,5]\n",
        "\n",
        "# createa tuple\n",
        "my_tuple =(10,20,30,40,50)\n",
        "\n",
        "#create a dictionary\n",
        "my_dict = {'a':1, 'b':2, 'c':3}\n",
        "\n",
        "# print all\n",
        "print(\"List:\", my_list)\n",
        "print(\"Tuple:\", my_tuple)\n",
        "print(\"Dictionary:\", my_dict)"
      ],
      "metadata": {
        "colab": {
          "base_uri": "https://localhost:8080/"
        },
        "id": "A1fZ7p99yktO",
        "outputId": "e6ee4358-e313-4ec4-99bf-f65a870891f1"
      },
      "execution_count": 113,
      "outputs": [
        {
          "output_type": "stream",
          "name": "stdout",
          "text": [
            "List: [1, 2, 3, 4, 5]\n",
            "Tuple: (10, 20, 30, 40, 50)\n",
            "Dictionary: {'a': 1, 'b': 2, 'c': 3}\n"
          ]
        }
      ]
    },
    {
      "cell_type": "markdown",
      "source": [
        "###27. write a code to create a list of 5 random numbers between 1 and 100, sort it in ascending order, and print the result."
      ],
      "metadata": {
        "id": "dwXmqxRizGz5"
      }
    },
    {
      "cell_type": "code",
      "source": [
        "import random\n",
        "\n",
        "# create a list of 5 random numbers between 1 and 100\n",
        "random_numbers = [random.randint(1, 100) for _ in range(5)]\n",
        "\n",
        "# sort the list in ascending order\n",
        "random_numbers.sort()\n",
        "\n",
        "# print the result\n",
        "print(\"Random numbers:\", random_numbers)"
      ],
      "metadata": {
        "colab": {
          "base_uri": "https://localhost:8080/"
        },
        "id": "MOBAslHi0M6g",
        "outputId": "f0b77c44-c295-49ab-cefe-636426680112"
      },
      "execution_count": 114,
      "outputs": [
        {
          "output_type": "stream",
          "name": "stdout",
          "text": [
            "Random numbers: [19, 43, 61, 72, 99]\n"
          ]
        }
      ]
    },
    {
      "cell_type": "markdown",
      "source": [
        "###28. write a code to create a list with strings and print the element at the third index."
      ],
      "metadata": {
        "id": "Er-SRanr0pmt"
      }
    },
    {
      "cell_type": "code",
      "source": [
        "# create a list of strings\n",
        "string_list = [\"apple\", \"banana\", \"cherry\", \"date\", \"elderberry\"]\n",
        "\n",
        "# print the element at the third index\n",
        "print(string_list[2])\n"
      ],
      "metadata": {
        "colab": {
          "base_uri": "https://localhost:8080/"
        },
        "id": "jNlk_Fii1FAF",
        "outputId": "5d885de7-a4f6-4b17-8052-2948f9049985"
      },
      "execution_count": 115,
      "outputs": [
        {
          "output_type": "stream",
          "name": "stdout",
          "text": [
            "cherry\n"
          ]
        }
      ]
    },
    {
      "cell_type": "markdown",
      "source": [
        "###29. write  a code to combine two dictionaries into one and print the result ."
      ],
      "metadata": {
        "id": "X4HIfwnK1Wu8"
      }
    },
    {
      "cell_type": "code",
      "source": [
        "# combine two dictionaries and print the result\n",
        "#first dictionaries\n",
        "dict1 ={'a':1,'b':4}\n",
        "#second dictionaries\n",
        "dict2 ={'c':3,'d':5}\n",
        "\n",
        "# combine the dictionaries\n",
        "combined_dict = {**dict1, **dict2}\n",
        "\n",
        "# print the combined dictionary\n",
        "print(combined_dict)"
      ],
      "metadata": {
        "colab": {
          "base_uri": "https://localhost:8080/"
        },
        "id": "eS9_uU3D3UTi",
        "outputId": "51f6f656-f5fa-473d-e9d2-c95157248267"
      },
      "execution_count": 116,
      "outputs": [
        {
          "output_type": "stream",
          "name": "stdout",
          "text": [
            "{'a': 1, 'b': 4, 'c': 3, 'd': 5}\n"
          ]
        }
      ]
    },
    {
      "cell_type": "markdown",
      "source": [
        "###30. write a code to convert a list of strings into a set."
      ],
      "metadata": {
        "id": "GKyBs73y4ZW5"
      }
    },
    {
      "cell_type": "code",
      "source": [
        "# convert a list of strings into a set\n",
        "# define a list of strings\n",
        "string_list = [\"apple\", \"banana\", \"cherry\", \"date\", \"elderberry\"]\n",
        "\n",
        "# convert the list to a set to remove duplicates\n",
        "string_set = set(string_list)\n",
        "\n",
        "# print the  original list and the resulting set\n",
        "print(\"original list :\",string_set)\n",
        "print(\"converted set\", string_set)"
      ],
      "metadata": {
        "colab": {
          "base_uri": "https://localhost:8080/"
        },
        "id": "G7YjpoDE4nT4",
        "outputId": "42673e02-609d-420c-f422-d7baa268c5af"
      },
      "execution_count": 117,
      "outputs": [
        {
          "output_type": "stream",
          "name": "stdout",
          "text": [
            "original list : {'elderberry', 'banana', 'cherry', 'apple', 'date'}\n",
            "converted set {'elderberry', 'banana', 'cherry', 'apple', 'date'}\n"
          ]
        }
      ]
    }
  ]
}